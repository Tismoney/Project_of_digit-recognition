{
 "cells": [
  {
   "cell_type": "markdown",
   "metadata": {},
   "source": [
    "# Облегченная нейронная сеть, настроенная на распознвание цифр"
   ]
  },
  {
   "cell_type": "markdown",
   "metadata": {},
   "source": [
    "Добавляем нужные библиотеки"
   ]
  },
  {
   "cell_type": "code",
   "execution_count": 1,
   "metadata": {
    "collapsed": true
   },
   "outputs": [],
   "source": [
    "import lasagne\n",
    "from theano import tensor as T\n",
    "from lasagne.nonlinearities import *\n",
    "import numpy as np\n",
    "\n",
    "import time\n",
    "import matplotlib.pyplot as plt\n",
    "%matplotlib inline\n",
    "\n",
    "from mnist import load_dataset"
   ]
  },
  {
   "cell_type": "markdown",
   "metadata": {},
   "source": [
    "Скачиваем и/или инцилизруем наши данные"
   ]
  },
  {
   "cell_type": "code",
   "execution_count": 2,
   "metadata": {
    "collapsed": false,
    "scrolled": true
   },
   "outputs": [],
   "source": [
    "X_train,y_train,X_val,y_val,X_test,y_test = load_dataset()"
   ]
  },
  {
   "cell_type": "markdown",
   "metadata": {},
   "source": [
    "Покажем, как выглядит датасет"
   ]
  },
  {
   "cell_type": "code",
   "execution_count": 3,
   "metadata": {
    "collapsed": false
   },
   "outputs": [
    {
     "name": "stdout",
     "output_type": "stream",
     "text": [
      "5\n"
     ]
    },
    {
     "data": {
      "image/png": "[encoded data removed]",
      "text/plain": [
       "<matplotlib.figure.Figure at 0x7f6718ed04d0>"
      ]
     },
     "metadata": {},
     "output_type": "display_data"
    }
   ],
   "source": [
    "plt.imshow(X_train[0,0], cmap=plt.cm.hot)\n",
    "print y_train[0]"
   ]
  },
  {
   "cell_type": "markdown",
   "metadata": {},
   "source": [
    "## Нейросеть"
   ]
  },
  {
   "cell_type": "code",
   "execution_count": 4,
   "metadata": {
    "collapsed": true
   },
   "outputs": [],
   "source": [
    "input_X = T.tensor4('Input')\n",
    "target_y = T.vector('Target', dtype='int32')"
   ]
  },
  {
   "cell_type": "markdown",
   "metadata": {},
   "source": [
    "### Архетиктура сети"
   ]
  },
  {
   "cell_type": "code",
   "execution_count": 5,
   "metadata": {
    "collapsed": false
   },
   "outputs": [],
   "source": [
    "#Входной слой сети\n",
    "input_layer  = lasagne.layers.InputLayer(shape=(None,1,28,28), input_var=input_X, name = \"Input\")\n",
    "#Внутренний слой сети\n",
    "dense_layer  = lasagne.layers.DenseLayer(input_layer,num_units=100, nonlinearity=sigmoid, name = \"Dense\")\n",
    "#Выходной слой сети\n",
    "output_layer = lasagne.layers.DenseLayer(dense_layer,num_units = 10, nonlinearity=softmax, name = \"Output\")"
   ]
  },
  {
   "cell_type": "code",
   "execution_count": 6,
   "metadata": {
    "collapsed": false
   },
   "outputs": [],
   "source": [
    "#предсказание нейронной сети\n",
    "y_predicted = lasagne.layers.get_output(output_layer)\n",
    "#Веса нейронной сети\n",
    "all_weights = lasagne.layers.get_all_params(output_layer)"
   ]
  },
  {
   "cell_type": "code",
   "execution_count": 7,
   "metadata": {
    "collapsed": true
   },
   "outputs": [],
   "source": [
    "#функция ошибки - средняя кроссэнтропия\n",
    "loss = lasagne.objectives.categorical_crossentropy(y_predicted,target_y).mean()\n",
    "\n",
    "accuracy = lasagne.objectives.categorical_accuracy(y_predicted,target_y).mean()\n",
    "\n",
    "#сразу посчитать словарь обновлённых значений с шагом по градиенту, как раньше\n",
    "updates_sgd = lasagne.updates.rmsprop(loss, all_weights,learning_rate=0.01)"
   ]
  },
  {
   "cell_type": "code",
   "execution_count": 8,
   "metadata": {
    "collapsed": true
   },
   "outputs": [],
   "source": [
    "#функция, которая обучает сеть на 1 шаг и возвращащет значение функции потерь и точности\n",
    "train_fun = theano.function([input_X,target_y],[loss,accuracy],updates= updates_sgd)\n",
    "\n",
    "#функция, которая считает точность\n",
    "accuracy_fun = theano.function([input_X,target_y],accuracy)\n",
    "\n",
    "#функция, которая выдает прогноз\n",
    "pred_fun = theano.function([input_X], y_predicted)"
   ]
  },
  {
   "cell_type": "markdown",
   "metadata": {},
   "source": [
    "## Процесс обучения"
   ]
  },
  {
   "cell_type": "code",
   "execution_count": 9,
   "metadata": {
    "collapsed": true
   },
   "outputs": [],
   "source": [
    "def iterate_minibatches(inputs, targets, batchsize, shuffle=False):\n",
    "    assert len(inputs) == len(targets)\n",
    "    if shuffle:\n",
    "        indices = np.arange(len(inputs))\n",
    "        np.random.shuffle(indices)\n",
    "    for start_idx in range(0, len(inputs) - batchsize + 1, batchsize):\n",
    "        if shuffle:\n",
    "            excerpt = indices[start_idx:start_idx + batchsize]\n",
    "        else:\n",
    "            excerpt = slice(start_idx, start_idx + batchsize)\n",
    "        yield inputs[excerpt], targets[excerpt]"
   ]
  },
  {
   "cell_type": "code",
   "execution_count": 10,
   "metadata": {
    "collapsed": false,
    "scrolled": true
   },
   "outputs": [
    {
     "name": "stdout",
     "output_type": "stream",
     "text": [
      "Epoch 1 of 15 took 1.851s\n",
      "  training loss (in-iteration):\t\t0.260285\n",
      "  train accuracy:\t\t92.26 %\n",
      "  validation accuracy:\t\t96.09 %\n",
      "Epoch 2 of 15 took 1.958s\n",
      "  training loss (in-iteration):\t\t0.113167\n",
      "  train accuracy:\t\t96.64 %\n",
      "  validation accuracy:\t\t96.61 %\n",
      "Epoch 3 of 15 took 1.974s\n",
      "  training loss (in-iteration):\t\t0.078703\n",
      "  train accuracy:\t\t97.66 %\n",
      "  validation accuracy:\t\t96.67 %\n",
      "Epoch 4 of 15 took 1.851s\n",
      "  training loss (in-iteration):\t\t0.058759\n",
      "  train accuracy:\t\t98.26 %\n",
      "  validation accuracy:\t\t97.11 %\n",
      "Epoch 5 of 15 took 1.849s\n",
      "  training loss (in-iteration):\t\t0.046235\n",
      "  train accuracy:\t\t98.62 %\n",
      "  validation accuracy:\t\t97.05 %\n",
      "Epoch 6 of 15 took 1.975s\n",
      "  training loss (in-iteration):\t\t0.035112\n",
      "  train accuracy:\t\t98.93 %\n",
      "  validation accuracy:\t\t97.02 %\n",
      "Epoch 7 of 15 took 2.418s\n",
      "  training loss (in-iteration):\t\t0.027560\n",
      "  train accuracy:\t\t99.22 %\n",
      "  validation accuracy:\t\t96.85 %\n",
      "Epoch 8 of 15 took 1.915s\n",
      "  training loss (in-iteration):\t\t0.021428\n",
      "  train accuracy:\t\t99.42 %\n",
      "  validation accuracy:\t\t97.40 %\n",
      "Epoch 9 of 15 took 2.154s\n",
      "  training loss (in-iteration):\t\t0.016692\n",
      "  train accuracy:\t\t99.55 %\n",
      "  validation accuracy:\t\t97.03 %\n",
      "Epoch 10 of 15 took 1.859s\n",
      "  training loss (in-iteration):\t\t0.012015\n",
      "  train accuracy:\t\t99.66 %\n",
      "  validation accuracy:\t\t97.04 %\n",
      "Epoch 11 of 15 took 1.977s\n",
      "  training loss (in-iteration):\t\t0.008795\n",
      "  train accuracy:\t\t99.79 %\n",
      "  validation accuracy:\t\t97.35 %\n",
      "Epoch 12 of 15 took 2.392s\n",
      "  training loss (in-iteration):\t\t0.007594\n",
      "  train accuracy:\t\t99.80 %\n",
      "  validation accuracy:\t\t97.11 %\n",
      "Epoch 13 of 15 took 2.764s\n",
      "  training loss (in-iteration):\t\t0.005820\n",
      "  train accuracy:\t\t99.86 %\n",
      "  validation accuracy:\t\t97.23 %\n",
      "Epoch 14 of 15 took 3.044s\n",
      "  training loss (in-iteration):\t\t0.003916\n",
      "  train accuracy:\t\t99.92 %\n",
      "  validation accuracy:\t\t97.14 %\n",
      "Epoch 15 of 15 took 2.306s\n",
      "  training loss (in-iteration):\t\t0.002916\n",
      "  train accuracy:\t\t99.95 %\n",
      "  validation accuracy:\t\t97.35 %\n"
     ]
    }
   ],
   "source": [
    "num_epochs = 15 #количество проходов по данным\n",
    "\n",
    "batch_size = 50 #размер мини-батча\n",
    "\n",
    "for epoch in range(num_epochs):\n",
    "    # In each epoch, we do a full pass over the training data:\n",
    "    train_err = 0\n",
    "    train_acc = 0\n",
    "    train_batches = 0\n",
    "    start_time = time.time()\n",
    "    for batch in iterate_minibatches(X_train, y_train,batch_size):\n",
    "        inputs, targets = batch\n",
    "        train_err_batch, train_acc_batch= train_fun(inputs, targets)\n",
    "        train_err += train_err_batch\n",
    "        train_acc += train_acc_batch\n",
    "        train_batches += 1\n",
    "\n",
    "    # And a full pass over the validation data:\n",
    "    val_acc = 0\n",
    "    val_batches = 0\n",
    "    for batch in iterate_minibatches(X_val, y_val, batch_size):\n",
    "        inputs, targets = batch\n",
    "        val_acc += accuracy_fun(inputs, targets)\n",
    "        val_batches += 1\n",
    "\n",
    "    \n",
    "    # Then we print the results for this epoch:\n",
    "    print(\"Epoch {} of {} took {:.3f}s\".format(\n",
    "        epoch + 1, num_epochs, time.time() - start_time))\n",
    "\n",
    "    print(\"  training loss (in-iteration):\\t\\t{:.6f}\".format(train_err / train_batches))\n",
    "    print(\"  train accuracy:\\t\\t{:.2f} %\".format(\n",
    "        train_acc / train_batches * 100))\n",
    "    print(\"  validation accuracy:\\t\\t{:.2f} %\".format(\n",
    "        val_acc / val_batches * 100))"
   ]
  },
  {
   "cell_type": "code",
   "execution_count": 11,
   "metadata": {
    "collapsed": false
   },
   "outputs": [
    {
     "name": "stdout",
     "output_type": "stream",
     "text": [
      "Final results:\n",
      "  test accuracy:\t\t97.36 %\n"
     ]
    }
   ],
   "source": [
    "test_acc = 0\n",
    "test_batches = 0\n",
    "for batch in iterate_minibatches(X_test, y_test, 500):\n",
    "    inputs, targets = batch\n",
    "    acc = accuracy_fun(inputs, targets)\n",
    "    test_acc += acc\n",
    "    test_batches += 1\n",
    "print(\"Final results:\")\n",
    "print(\"  test accuracy:\\t\\t{:.2f} %\".format(\n",
    "    test_acc / test_batches * 100))\n"
   ]
  },
  {
   "cell_type": "code",
   "execution_count": 12,
   "metadata": {
    "collapsed": false
   },
   "outputs": [
    {
     "data": {
      "text/plain": [
       "(1, 1, 28, 28)"
      ]
     },
     "execution_count": 12,
     "metadata": {},
     "output_type": "execute_result"
    }
   ],
   "source": [
    "X_test[[0]].shape"
   ]
  },
  {
   "cell_type": "code",
   "execution_count": 13,
   "metadata": {
    "collapsed": false
   },
   "outputs": [
    {
     "name": "stdout",
     "output_type": "stream",
     "text": [
      "7\n"
     ]
    },
    {
     "data": {
      "image/png": "[encoded data removed]",
      "text/plain": [
       "<matplotlib.figure.Figure at 0x7f6702e75990>"
      ]
     },
     "metadata": {},
     "output_type": "display_data"
    }
   ],
   "source": [
    "plt.imshow(X_test[0,0], cmap=plt.cm.hot)\n",
    "print np.argmax(pred_fun(X_test[[0]]))"
   ]
  },
  {
   "cell_type": "code",
   "execution_count": null,
   "metadata": {
    "collapsed": true
   },
   "outputs": [],
   "source": []
  }
 ],
 "metadata": {
  "kernelspec": {
   "display_name": "Python 2",
   "language": "python",
   "name": "python2"
  },
  "language_info": {
   "codemirror_mode": {
    "name": "ipython",
    "version": 2
   },
   "file_extension": ".py",
   "mimetype": "text/x-python",
   "name": "python",
   "nbconvert_exporter": "python",
   "pygments_lexer": "ipython2",
   "version": "2.7.12"
  }
 },
 "nbformat": 4,
 "nbformat_minor": 2
}
